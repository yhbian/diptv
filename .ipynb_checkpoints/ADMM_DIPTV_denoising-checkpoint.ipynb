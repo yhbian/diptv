{
 "cells": [
  {
   "cell_type": "markdown",
   "metadata": {
    "colab_type": "text",
    "id": "hkhmUkEoK9sN"
   },
   "source": [
    "This is the code of our **ADMM-DIPTV** paper. \n",
    "- Select `name` below to switch between the images.\n",
    "- Change the `weight` depending on the noise.\n"
   ]
  },
  {
   "cell_type": "code",
   "execution_count": null,
   "metadata": {
    "colab": {
     "base_uri": "https://localhost:8080/",
     "height": 51
    },
    "colab_type": "code",
    "executionInfo": {
     "elapsed": 1691,
     "status": "ok",
     "timestamp": 1600720947841,
     "user": {
      "displayName": "Andrea Sebastiani",
      "photoUrl": "https://lh3.googleusercontent.com/a-/AOh14Gh-o17fE4zrZxF5JFH1ShulpXRIZDjEk72hPyyujg=s64",
      "userId": "08381018070201927882"
     },
     "user_tz": -120
    },
    "id": "ztgYHO8HLHtT",
    "outputId": "d4ea672e-2f1a-4062-8c16-5cbe93fe58ed"
   },
   "outputs": [],
   "source": [
    "# Mounting my Google Drive and set the cwd on my imagefolder\n",
    "from google.colab import drive\n",
    "drive.mount('/content/drive/', force_remount=True)\n",
    "%cd /content/drive/My Drive/ADMM-DIPTV"
   ]
  },
  {
   "cell_type": "markdown",
   "metadata": {
    "colab_type": "text",
    "id": "MNjQBbjxK9sQ"
   },
   "source": [
    "# Import libs"
   ]
  },
  {
   "cell_type": "code",
   "execution_count": null,
   "metadata": {
    "colab": {},
    "colab_type": "code",
    "executionInfo": {
     "elapsed": 2235,
     "status": "ok",
     "timestamp": 1600720948432,
     "user": {
      "displayName": "Andrea Sebastiani",
      "photoUrl": "https://lh3.googleusercontent.com/a-/AOh14Gh-o17fE4zrZxF5JFH1ShulpXRIZDjEk72hPyyujg=s64",
      "userId": "08381018070201927882"
     },
     "user_tz": -120
    },
    "id": "XlkW1Jp3K9sR"
   },
   "outputs": [],
   "source": [
    "from __future__ import print_function\n",
    "import matplotlib.pyplot as plt\n",
    "%matplotlib inline\n",
    "\n",
    "import os\n",
    "#os.environ['CUDA_VISIBLE_DEVICES'] = '3'\n",
    "\n",
    "import numpy as np\n",
    "from models import *\n",
    "\n",
    "import torch\n",
    "import torch.optim\n",
    "\n",
    "from skimage.measure import compare_psnr\n",
    "from utils.denoising_utils import *\n",
    "from utils.sr_utils2 import *\n",
    "from utils.utils import *\n",
    "\n",
    "torch.backends.cudnn.enabled = True\n",
    "torch.backends.cudnn.benchmark =True\n",
    "#torch.set_default_tensor_type('torch.cuda.FloatTensor')\n",
    "dtype = torch.cuda.FloatTensor\n",
    "\n",
    "imsize =-1\n",
    "PLOT = True\n",
    "sigma = 20 #70\n",
    "sigma_ = sigma/255."
   ]
  },
  {
   "cell_type": "code",
   "execution_count": null,
   "metadata": {
    "colab": {},
    "colab_type": "code",
    "executionInfo": {
     "elapsed": 2193,
     "status": "ok",
     "timestamp": 1600720948438,
     "user": {
      "displayName": "Andrea Sebastiani",
      "photoUrl": "https://lh3.googleusercontent.com/a-/AOh14Gh-o17fE4zrZxF5JFH1ShulpXRIZDjEk72hPyyujg=s64",
      "userId": "08381018070201927882"
     },
     "user_tz": -120
    },
    "id": "7-oWpWwtK9sb"
   },
   "outputs": [],
   "source": [
    "name = 'I08.png'\n",
    "fname = f\"data2/denoising/%s\"%(name)"
   ]
  },
  {
   "cell_type": "markdown",
   "metadata": {
    "colab_type": "text",
    "id": "Q9jGUSHpK9si"
   },
   "source": [
    "# Load image"
   ]
  },
  {
   "cell_type": "code",
   "execution_count": null,
   "metadata": {
    "colab": {
     "base_uri": "https://localhost:8080/",
     "height": 237
    },
    "colab_type": "code",
    "executionInfo": {
     "elapsed": 3433,
     "status": "ok",
     "timestamp": 1600720949701,
     "user": {
      "displayName": "Andrea Sebastiani",
      "photoUrl": "https://lh3.googleusercontent.com/a-/AOh14Gh-o17fE4zrZxF5JFH1ShulpXRIZDjEk72hPyyujg=s64",
      "userId": "08381018070201927882"
     },
     "user_tz": -120
    },
    "id": "Xp9n4_P2K9sk",
    "outputId": "30567d69-08dc-412f-d8b2-bd3bb86c2971"
   },
   "outputs": [],
   "source": [
    "# Add synthetic noise\n",
    "img_pil = crop_image(get_image(fname, imsize)[0], d=32)\n",
    "img_np = pil_to_np(img_pil)    \n",
    "    \n",
    "# pay attention!\n",
    "if img_np.shape[0]!=3:\n",
    "  img_np_temp = np.zeros((3,img_np.shape[1], img_np.shape[2]))\n",
    "  img_np_temp[0,:,:] = img_np[0,:,:]  \n",
    "  img_np_temp[1,:,:] = img_np[0,:,:]\n",
    "  img_np_temp[2,:,:] = img_np[0,:,:]\n",
    "  img_np = img_np_temp\n",
    "    \n",
    "img_noisy_pil, img_noisy_np = get_noisy_image(img_np, sigma_)\n",
    "\n",
    "if PLOT:\n",
    "    plot_image_grid([img_np, img_noisy_np], 4, 6);\n",
    "\n",
    "\n",
    "print(img_np.shape)"
   ]
  },
  {
   "cell_type": "markdown",
   "metadata": {
    "colab_type": "text",
    "id": "ImXzJDYlK9sr"
   },
   "source": [
    "# Setup"
   ]
  },
  {
   "cell_type": "code",
   "execution_count": null,
   "metadata": {
    "colab": {
     "base_uri": "https://localhost:8080/",
     "height": 34
    },
    "colab_type": "code",
    "executionInfo": {
     "elapsed": 7019,
     "status": "ok",
     "timestamp": 1600720953304,
     "user": {
      "displayName": "Andrea Sebastiani",
      "photoUrl": "https://lh3.googleusercontent.com/a-/AOh14Gh-o17fE4zrZxF5JFH1ShulpXRIZDjEk72hPyyujg=s64",
      "userId": "08381018070201927882"
     },
     "user_tz": -120
    },
    "id": "fM3raZF0K9st",
    "outputId": "3fd79536-78b8-40aa-8991-6ccb6f70e9a8"
   },
   "outputs": [],
   "source": [
    "INPUT = 'noise' \n",
    "pad = 'reflection'\n",
    "OPT_OVER = 'net' \n",
    "\n",
    "reg_noise_std = 1./20. # set to 1./20. for sigma=50\n",
    "LR = 0.01 \n",
    "\n",
    "OPTIMIZER='adam' \n",
    "show_every = 200\n",
    "exp_weight=0.99\n",
    "\n",
    "num_iter = 2600\n",
    "input_depth = 3 \n",
    "figsize = 1 \n",
    "    \n",
    "    \n",
    "net = get_net(input_depth, 'skip', pad,\n",
    "              skip_n33d=128, \n",
    "              skip_n33u=128, \n",
    "              skip_n11=4, \n",
    "              num_scales=5,\n",
    "              upsample_mode='bilinear').type(dtype)\n",
    "    \n",
    "net_input = get_noise(input_depth, INPUT, (img_pil.size[1], img_pil.size[0])).type(dtype).detach()\n",
    "\n",
    "# Compute number of parameters\n",
    "s  = sum([np.prod(list(p.size())) for p in net.parameters()]); \n",
    "print ('Number of params: %d' % s)\n",
    "\n",
    "# Loss\n",
    "mse = torch.nn.MSELoss().type(dtype)\n"
   ]
  },
  {
   "cell_type": "markdown",
   "metadata": {
    "colab_type": "text",
    "id": "tsYDjymLK9s2"
   },
   "source": [
    "# Optimize"
   ]
  },
  {
   "cell_type": "code",
   "execution_count": null,
   "metadata": {
    "colab": {},
    "colab_type": "code",
    "executionInfo": {
     "elapsed": 7008,
     "status": "ok",
     "timestamp": 1600720953307,
     "user": {
      "displayName": "Andrea Sebastiani",
      "photoUrl": "https://lh3.googleusercontent.com/a-/AOh14Gh-o17fE4zrZxF5JFH1ShulpXRIZDjEk72hPyyujg=s64",
      "userId": "08381018070201927882"
     },
     "user_tz": -120
    },
    "id": "YffHWcVes8Nz"
   },
   "outputs": [],
   "source": [
    "size = img_np.shape\n",
    "h = size[-2]\n",
    "w = size[-1]\n",
    "Dh_psf = np.array([ [0, 0, 0], [1, -1, 0], [0, 0, 0]])\n",
    "Dv_psf = np.array([ [0, 1, 0], [0, -1, 0], [0, 0, 0]])\n",
    "Id_psf = np.array([[1]])\n",
    "\n",
    "Id_DFT = torch.from_numpy(psf2otf(Id_psf, [h,w])).cuda()\n",
    "Dh_DFT = torch.from_numpy(psf2otf(Dh_psf, [h,w])).cuda()\n",
    "Dv_DFT = torch.from_numpy(psf2otf(Dv_psf, [h,w])).cuda()\n",
    "\n",
    "DhT_DFT = torch.conj(Dh_DFT)\n",
    "DvT_DFT = torch.conj(Dv_DFT)"
   ]
  },
  {
   "cell_type": "code",
   "execution_count": null,
   "metadata": {
    "colab": {},
    "colab_type": "code",
    "executionInfo": {
     "elapsed": 6994,
     "status": "ok",
     "timestamp": 1600720953309,
     "user": {
      "displayName": "Andrea Sebastiani",
      "photoUrl": "https://lh3.googleusercontent.com/a-/AOh14Gh-o17fE4zrZxF5JFH1ShulpXRIZDjEk72hPyyujg=s64",
      "userId": "08381018070201927882"
     },
     "user_tz": -120
    },
    "id": "dSWcYWhZXubX"
   },
   "outputs": [],
   "source": [
    "signal_ndim = 2\n",
    "def D2(x, Dh_DFT, Dv_DFT):\n",
    "    x_DFT = torch.rfft(x, signal_ndim=signal_ndim, onesided=False)\n",
    "    x_DFT = torch.view_as_complex(x_DFT).cuda()\n",
    "    Dh_x = torch.irfft(torch.view_as_real(Dh_DFT*x_DFT), signal_ndim=signal_ndim, onesided=False)\n",
    "    Dv_x = torch.irfft(torch.view_as_real(Dv_DFT*x_DFT), signal_ndim=signal_ndim, onesided=False)\n",
    "    return Dh_x.detach().clone(), Dv_x.detach().clone()"
   ]
  },
  {
   "cell_type": "code",
   "execution_count": null,
   "metadata": {
    "colab": {
     "base_uri": "https://localhost:8080/",
     "height": 1000
    },
    "colab_type": "code",
    "id": "36E_XzpiK9s3",
    "outputId": "1b649636-0740-4f24-b38a-703af72324b1",
    "scrolled": true
   },
   "outputs": [],
   "source": [
    "net_input_saved = net_input.detach().clone()\n",
    "noise = net_input.detach().clone()\n",
    "out_avg = None\n",
    "last_net = None\n",
    "psrn_noisy_last = 0\n",
    "\n",
    "img_noisy_torch = np_to_torch(img_noisy_np).type(dtype) \n",
    "u = 0*img_noisy_torch.detach().clone()\n",
    "t_h = 0*img_noisy_torch.detach().clone()\n",
    "t_v = 0*img_noisy_torch.detach().clone()\n",
    "\n",
    "mu_f = torch.zeros(net_input.shape, device=0)\n",
    "mu_t_h = torch.zeros(net_input.shape, device=0)\n",
    "mu_t_v = torch.zeros(net_input.shape, device=0)\n",
    "\n",
    "beta_t = 1.\n",
    "weight = 0.001\n",
    "\n",
    "loss_values = []\n",
    "fun_values = []\n",
    "psnr_values = []\n",
    "running_loss=0\n",
    "\n",
    "i = 0\n",
    "\n",
    "def closure():\n",
    "    \n",
    "    global i, out_avg, psrn_noisy_last, last_net, net_input, mu_t_h, mu_t_v, u,beta_t,weight,t_h,t_v, Dh_out, Dv_out\n",
    "    \n",
    "    if reg_noise_std > 0:\n",
    "        net_input = net_input_saved + (noise.normal_() * reg_noise_std)\n",
    "    \n",
    "    #First problem\n",
    "    out = net(net_input)\n",
    "    if i==0:\n",
    "      [Dh_out, Dv_out] = D2(out, Dh_DFT, Dv_DFT)\n",
    "\n",
    "    total_loss = norm2_loss(out-img_noisy_torch)\n",
    "    total_loss += (beta_t/2)*norm2_loss(Dh_out-(t_h-mu_t_h).detach()) + (beta_t/2)*norm2_loss(Dv_out-(t_v-mu_t_v).detach())\n",
    "\n",
    "    total_loss.backward(retain_graph=False,create_graph=False)\n",
    "    running_loss = total_loss.item()\n",
    "    loss_values.append(running_loss)\n",
    "\n",
    "    out = net(net_input)\n",
    "  \n",
    "    [Dh_out, Dv_out] = D2(out, Dh_DFT, Dv_DFT)\n",
    "\n",
    "    #TV problem: second problem \n",
    "    q_h                 = Dh_out + mu_t_h\n",
    "    q_v                 = Dv_out + mu_t_v\n",
    "    q_norm              = torch.sqrt(torch.pow(q_h,2) + torch.pow(q_v,2))\n",
    "    q_norm[q_norm == 0] = weight/beta_t\n",
    "    q_norm              = torch.clamp( q_norm - weight/beta_t , min=0 )/q_norm\n",
    "    t_h                 = (q_norm * q_h).detach().clone()\n",
    "    t_v                 = (q_norm * q_v).detach().clone()\n",
    "\n",
    "    #Ascent step: updating lagrangian parameter\n",
    "    mu_t_h = (mu_t_h + (Dh_out- t_h)).detach().clone()\n",
    "    mu_t_v = (mu_t_v + (Dh_out- t_v)).detach().clone()\n",
    "\n",
    "    # Smoothing\n",
    "    if out_avg is None:\n",
    "        out_avg = out.detach()\n",
    "    else:\n",
    "        out_avg = out_avg * exp_weight + out.detach() * (1 - exp_weight)\n",
    "    \n",
    "    psrn_noisy = compare_psnr(img_noisy_np, out.detach().cpu().numpy()[0]) \n",
    "    psrn_gt    = compare_psnr(img_np, out.detach().cpu().numpy()[0]) \n",
    "    psrn_gt_sm = compare_psnr(img_np, out_avg.detach().cpu().numpy()[0]) \n",
    "\n",
    "    psnr_values.append(psrn_gt)\n",
    "    \n",
    "    # Note that we do not have GT for the \"snail\" example. So 'PSRN_gt', 'PSNR_gt_sm' make no sense\n",
    "    print ('Iteration %05d    Loss %f   PSNR_noisy: %f   PSRN_gt: %f PSNR_gt_sm: %f' % (i, total_loss.item(), psrn_noisy, psrn_gt, psrn_gt_sm), '\\r', end='')\n",
    "    if  PLOT and i % show_every == 0:\n",
    "        out_np = torch_to_np(out)\n",
    "        plot_image_grid([np.clip(out_np, 0, 1), img_np], factor=figsize)\n",
    "            \n",
    "    i += 1\n",
    "\n",
    "\n",
    "    return running_loss,loss_values,psnr_values\n",
    "\n",
    "p = get_params(OPT_OVER, net, net_input)\n",
    "optimize(OPTIMIZER, p, closure, LR, num_iter)"
   ]
  },
  {
   "cell_type": "code",
   "execution_count": null,
   "metadata": {
    "colab": {},
    "colab_type": "code",
    "id": "SKXelO3iK9tI"
   },
   "outputs": [],
   "source": [
    "out_np = torch_to_np(net(net_input))\n",
    "plot_image_grid([np.clip(out_np, 0, 1), img_np,img_noisy_np], factor=18);"
   ]
  },
  {
   "cell_type": "code",
   "execution_count": null,
   "metadata": {
    "colab": {},
    "colab_type": "code",
    "id": "Dpky5iA92T8N"
   },
   "outputs": [],
   "source": [
    "plt.plot(range(len(psnr_values)), psnr_values)\n",
    "plt.show()\n",
    "print(np.max(psnr_values))\n",
    "print(psnr_values[-1])\n",
    "\n",
    "plt.plot(range(len(loss_values)), loss_values)\n",
    "plt.show()"
   ]
  },
  {
   "cell_type": "code",
   "execution_count": null,
   "metadata": {
    "colab": {},
    "colab_type": "code",
    "id": "FGN-zYzHiVRM"
   },
   "outputs": [],
   "source": [
    "from PIL import Image\n",
    "\n",
    "#Saving output image\n",
    "\n",
    "folder = \"ADMM_DIPTV\"\n",
    "path = f\"results/%s/%s_%s_%d\"%(folder, folder, name[:-4], sigma)\n",
    "\n",
    "out_np=255*out_np\n",
    "print(np.amax(out_np))\n",
    "u=out_np.transpose(1, 2, 0)\n",
    "np.savetxt(f'%s.txt'%path,u[:,:,0])\n",
    "\n",
    "u=u.astype(np.uint8)\n",
    "print(u.shape)\n",
    "\n",
    "im = Image.fromarray(u)\n",
    "im.save(f'%s.png'%path)"
   ]
  }
 ],
 "metadata": {
  "accelerator": "GPU",
  "colab": {
   "collapsed_sections": [],
   "name": "Copia_ADMM_DIPTV_SEB.ipynb",
   "provenance": []
  },
  "kernelspec": {
   "display_name": "Python 3",
   "language": "python",
   "name": "python3"
  },
  "language_info": {
   "codemirror_mode": {
    "name": "ipython",
    "version": 3
   },
   "file_extension": ".py",
   "mimetype": "text/x-python",
   "name": "python",
   "nbconvert_exporter": "python",
   "pygments_lexer": "ipython3",
   "version": "3.7.3"
  }
 },
 "nbformat": 4,
 "nbformat_minor": 1
}
